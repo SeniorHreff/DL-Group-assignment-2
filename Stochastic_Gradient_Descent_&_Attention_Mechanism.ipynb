{
  "nbformat": 4,
  "nbformat_minor": 0,
  "metadata": {
    "colab": {
      "provenance": []
    },
    "kernelspec": {
      "name": "python3",
      "display_name": "Python 3"
    },
    "language_info": {
      "name": "python"
    }
  },
  "cells": [
    {
      "cell_type": "markdown",
      "source": [
        "# Stochastic Gradient Descent"
      ],
      "metadata": {
        "id": "kcnvmCL1O3zM"
      }
    },
    {
      "cell_type": "code",
      "source": [
        "# import necessary libraries\n",
        "import numpy as np  # Matrix and vector computation package\n",
        "import pandas as pd\n",
        "import matplotlib.pyplot as plt  # Plotting library\n",
        "from tqdm import tqdm_notebook\n",
        "from sklearn.preprocessing import MinMaxScaler\n"
      ],
      "metadata": {
        "id": "LSWON5bHlFmJ"
      },
      "execution_count": 107,
      "outputs": []
    },
    {
      "cell_type": "markdown",
      "source": [
        "# Dataset\n",
        "\n",
        "The Dataset is the Auto Insurance datast from the first lecture of M3."
      ],
      "metadata": {
        "id": "NicedScTlDni"
      }
    },
    {
      "cell_type": "code",
      "source": [
        "# load dataset\n",
        "data = pd.read_csv('https://raw.githubusercontent.com/aaubs/ds-master/main/data/Swedish_Auto_Insurance_dataset.csv')\n",
        "data.head()"
      ],
      "metadata": {
        "colab": {
          "base_uri": "https://localhost:8080/",
          "height": 206
        },
        "id": "E7KmoRUqlJYy",
        "outputId": "993f2f14-51c4-4b81-f84a-ef7f939824d0"
      },
      "execution_count": 108,
      "outputs": [
        {
          "output_type": "execute_result",
          "data": {
            "text/plain": [
              "     X      Y\n",
              "0  108  392.5\n",
              "1   19   46.2\n",
              "2   13   15.7\n",
              "3  124  422.2\n",
              "4   40  119.4"
            ],
            "text/html": [
              "\n",
              "  <div id=\"df-2fa10995-e4ee-45c1-876b-8910de2d2227\" class=\"colab-df-container\">\n",
              "    <div>\n",
              "<style scoped>\n",
              "    .dataframe tbody tr th:only-of-type {\n",
              "        vertical-align: middle;\n",
              "    }\n",
              "\n",
              "    .dataframe tbody tr th {\n",
              "        vertical-align: top;\n",
              "    }\n",
              "\n",
              "    .dataframe thead th {\n",
              "        text-align: right;\n",
              "    }\n",
              "</style>\n",
              "<table border=\"1\" class=\"dataframe\">\n",
              "  <thead>\n",
              "    <tr style=\"text-align: right;\">\n",
              "      <th></th>\n",
              "      <th>X</th>\n",
              "      <th>Y</th>\n",
              "    </tr>\n",
              "  </thead>\n",
              "  <tbody>\n",
              "    <tr>\n",
              "      <th>0</th>\n",
              "      <td>108</td>\n",
              "      <td>392.5</td>\n",
              "    </tr>\n",
              "    <tr>\n",
              "      <th>1</th>\n",
              "      <td>19</td>\n",
              "      <td>46.2</td>\n",
              "    </tr>\n",
              "    <tr>\n",
              "      <th>2</th>\n",
              "      <td>13</td>\n",
              "      <td>15.7</td>\n",
              "    </tr>\n",
              "    <tr>\n",
              "      <th>3</th>\n",
              "      <td>124</td>\n",
              "      <td>422.2</td>\n",
              "    </tr>\n",
              "    <tr>\n",
              "      <th>4</th>\n",
              "      <td>40</td>\n",
              "      <td>119.4</td>\n",
              "    </tr>\n",
              "  </tbody>\n",
              "</table>\n",
              "</div>\n",
              "    <div class=\"colab-df-buttons\">\n",
              "\n",
              "  <div class=\"colab-df-container\">\n",
              "    <button class=\"colab-df-convert\" onclick=\"convertToInteractive('df-2fa10995-e4ee-45c1-876b-8910de2d2227')\"\n",
              "            title=\"Convert this dataframe to an interactive table.\"\n",
              "            style=\"display:none;\">\n",
              "\n",
              "  <svg xmlns=\"http://www.w3.org/2000/svg\" height=\"24px\" viewBox=\"0 -960 960 960\">\n",
              "    <path d=\"M120-120v-720h720v720H120Zm60-500h600v-160H180v160Zm220 220h160v-160H400v160Zm0 220h160v-160H400v160ZM180-400h160v-160H180v160Zm440 0h160v-160H620v160ZM180-180h160v-160H180v160Zm440 0h160v-160H620v160Z\"/>\n",
              "  </svg>\n",
              "    </button>\n",
              "\n",
              "  <style>\n",
              "    .colab-df-container {\n",
              "      display:flex;\n",
              "      gap: 12px;\n",
              "    }\n",
              "\n",
              "    .colab-df-convert {\n",
              "      background-color: #E8F0FE;\n",
              "      border: none;\n",
              "      border-radius: 50%;\n",
              "      cursor: pointer;\n",
              "      display: none;\n",
              "      fill: #1967D2;\n",
              "      height: 32px;\n",
              "      padding: 0 0 0 0;\n",
              "      width: 32px;\n",
              "    }\n",
              "\n",
              "    .colab-df-convert:hover {\n",
              "      background-color: #E2EBFA;\n",
              "      box-shadow: 0px 1px 2px rgba(60, 64, 67, 0.3), 0px 1px 3px 1px rgba(60, 64, 67, 0.15);\n",
              "      fill: #174EA6;\n",
              "    }\n",
              "\n",
              "    .colab-df-buttons div {\n",
              "      margin-bottom: 4px;\n",
              "    }\n",
              "\n",
              "    [theme=dark] .colab-df-convert {\n",
              "      background-color: #3B4455;\n",
              "      fill: #D2E3FC;\n",
              "    }\n",
              "\n",
              "    [theme=dark] .colab-df-convert:hover {\n",
              "      background-color: #434B5C;\n",
              "      box-shadow: 0px 1px 3px 1px rgba(0, 0, 0, 0.15);\n",
              "      filter: drop-shadow(0px 1px 2px rgba(0, 0, 0, 0.3));\n",
              "      fill: #FFFFFF;\n",
              "    }\n",
              "  </style>\n",
              "\n",
              "    <script>\n",
              "      const buttonEl =\n",
              "        document.querySelector('#df-2fa10995-e4ee-45c1-876b-8910de2d2227 button.colab-df-convert');\n",
              "      buttonEl.style.display =\n",
              "        google.colab.kernel.accessAllowed ? 'block' : 'none';\n",
              "\n",
              "      async function convertToInteractive(key) {\n",
              "        const element = document.querySelector('#df-2fa10995-e4ee-45c1-876b-8910de2d2227');\n",
              "        const dataTable =\n",
              "          await google.colab.kernel.invokeFunction('convertToInteractive',\n",
              "                                                    [key], {});\n",
              "        if (!dataTable) return;\n",
              "\n",
              "        const docLinkHtml = 'Like what you see? Visit the ' +\n",
              "          '<a target=\"_blank\" href=https://colab.research.google.com/notebooks/data_table.ipynb>data table notebook</a>'\n",
              "          + ' to learn more about interactive tables.';\n",
              "        element.innerHTML = '';\n",
              "        dataTable['output_type'] = 'display_data';\n",
              "        await google.colab.output.renderOutput(dataTable, element);\n",
              "        const docLink = document.createElement('div');\n",
              "        docLink.innerHTML = docLinkHtml;\n",
              "        element.appendChild(docLink);\n",
              "      }\n",
              "    </script>\n",
              "  </div>\n",
              "\n",
              "\n",
              "<div id=\"df-f547d478-a524-4c23-9fb4-4c29ce75008d\">\n",
              "  <button class=\"colab-df-quickchart\" onclick=\"quickchart('df-f547d478-a524-4c23-9fb4-4c29ce75008d')\"\n",
              "            title=\"Suggest charts\"\n",
              "            style=\"display:none;\">\n",
              "\n",
              "<svg xmlns=\"http://www.w3.org/2000/svg\" height=\"24px\"viewBox=\"0 0 24 24\"\n",
              "     width=\"24px\">\n",
              "    <g>\n",
              "        <path d=\"M19 3H5c-1.1 0-2 .9-2 2v14c0 1.1.9 2 2 2h14c1.1 0 2-.9 2-2V5c0-1.1-.9-2-2-2zM9 17H7v-7h2v7zm4 0h-2V7h2v10zm4 0h-2v-4h2v4z\"/>\n",
              "    </g>\n",
              "</svg>\n",
              "  </button>\n",
              "\n",
              "<style>\n",
              "  .colab-df-quickchart {\n",
              "      --bg-color: #E8F0FE;\n",
              "      --fill-color: #1967D2;\n",
              "      --hover-bg-color: #E2EBFA;\n",
              "      --hover-fill-color: #174EA6;\n",
              "      --disabled-fill-color: #AAA;\n",
              "      --disabled-bg-color: #DDD;\n",
              "  }\n",
              "\n",
              "  [theme=dark] .colab-df-quickchart {\n",
              "      --bg-color: #3B4455;\n",
              "      --fill-color: #D2E3FC;\n",
              "      --hover-bg-color: #434B5C;\n",
              "      --hover-fill-color: #FFFFFF;\n",
              "      --disabled-bg-color: #3B4455;\n",
              "      --disabled-fill-color: #666;\n",
              "  }\n",
              "\n",
              "  .colab-df-quickchart {\n",
              "    background-color: var(--bg-color);\n",
              "    border: none;\n",
              "    border-radius: 50%;\n",
              "    cursor: pointer;\n",
              "    display: none;\n",
              "    fill: var(--fill-color);\n",
              "    height: 32px;\n",
              "    padding: 0;\n",
              "    width: 32px;\n",
              "  }\n",
              "\n",
              "  .colab-df-quickchart:hover {\n",
              "    background-color: var(--hover-bg-color);\n",
              "    box-shadow: 0 1px 2px rgba(60, 64, 67, 0.3), 0 1px 3px 1px rgba(60, 64, 67, 0.15);\n",
              "    fill: var(--button-hover-fill-color);\n",
              "  }\n",
              "\n",
              "  .colab-df-quickchart-complete:disabled,\n",
              "  .colab-df-quickchart-complete:disabled:hover {\n",
              "    background-color: var(--disabled-bg-color);\n",
              "    fill: var(--disabled-fill-color);\n",
              "    box-shadow: none;\n",
              "  }\n",
              "\n",
              "  .colab-df-spinner {\n",
              "    border: 2px solid var(--fill-color);\n",
              "    border-color: transparent;\n",
              "    border-bottom-color: var(--fill-color);\n",
              "    animation:\n",
              "      spin 1s steps(1) infinite;\n",
              "  }\n",
              "\n",
              "  @keyframes spin {\n",
              "    0% {\n",
              "      border-color: transparent;\n",
              "      border-bottom-color: var(--fill-color);\n",
              "      border-left-color: var(--fill-color);\n",
              "    }\n",
              "    20% {\n",
              "      border-color: transparent;\n",
              "      border-left-color: var(--fill-color);\n",
              "      border-top-color: var(--fill-color);\n",
              "    }\n",
              "    30% {\n",
              "      border-color: transparent;\n",
              "      border-left-color: var(--fill-color);\n",
              "      border-top-color: var(--fill-color);\n",
              "      border-right-color: var(--fill-color);\n",
              "    }\n",
              "    40% {\n",
              "      border-color: transparent;\n",
              "      border-right-color: var(--fill-color);\n",
              "      border-top-color: var(--fill-color);\n",
              "    }\n",
              "    60% {\n",
              "      border-color: transparent;\n",
              "      border-right-color: var(--fill-color);\n",
              "    }\n",
              "    80% {\n",
              "      border-color: transparent;\n",
              "      border-right-color: var(--fill-color);\n",
              "      border-bottom-color: var(--fill-color);\n",
              "    }\n",
              "    90% {\n",
              "      border-color: transparent;\n",
              "      border-bottom-color: var(--fill-color);\n",
              "    }\n",
              "  }\n",
              "</style>\n",
              "\n",
              "  <script>\n",
              "    async function quickchart(key) {\n",
              "      const quickchartButtonEl =\n",
              "        document.querySelector('#' + key + ' button');\n",
              "      quickchartButtonEl.disabled = true;  // To prevent multiple clicks.\n",
              "      quickchartButtonEl.classList.add('colab-df-spinner');\n",
              "      try {\n",
              "        const charts = await google.colab.kernel.invokeFunction(\n",
              "            'suggestCharts', [key], {});\n",
              "      } catch (error) {\n",
              "        console.error('Error during call to suggestCharts:', error);\n",
              "      }\n",
              "      quickchartButtonEl.classList.remove('colab-df-spinner');\n",
              "      quickchartButtonEl.classList.add('colab-df-quickchart-complete');\n",
              "    }\n",
              "    (() => {\n",
              "      let quickchartButtonEl =\n",
              "        document.querySelector('#df-f547d478-a524-4c23-9fb4-4c29ce75008d button');\n",
              "      quickchartButtonEl.style.display =\n",
              "        google.colab.kernel.accessAllowed ? 'block' : 'none';\n",
              "    })();\n",
              "  </script>\n",
              "</div>\n",
              "    </div>\n",
              "  </div>\n"
            ]
          },
          "metadata": {},
          "execution_count": 108
        }
      ]
    },
    {
      "cell_type": "markdown",
      "source": [
        "It contains a X and Y variable for the number of claims and the total payment for insurance claims in thousands of Swedish Kronor for geographical zones in Sweden."
      ],
      "metadata": {
        "id": "wiG2xZE_lKOg"
      }
    },
    {
      "cell_type": "markdown",
      "source": [
        "## Min-Max Scaling\n",
        "\n",
        "The data is scaled using the Min-Max scaling method for convenience."
      ],
      "metadata": {
        "id": "OwAokkcqlNUp"
      }
    },
    {
      "cell_type": "code",
      "source": [
        "scaler = MinMaxScaler() # Initialize a scaler\n",
        "data_scaled = scaler.fit_transform(data) # Apply scaler to the numeric columns\n",
        "data_s = pd.DataFrame(data_scaled, columns=data.columns) # Store the scaled data in a dataframe"
      ],
      "metadata": {
        "id": "ZpRQL7UXlOyn"
      },
      "execution_count": 109,
      "outputs": []
    },
    {
      "cell_type": "markdown",
      "source": [
        "## Computing / Training neural network\n",
        "\n",
        "The following code is from the lectures, and is used to compute the neural network. The only reason for doing so is to compare our manually calculated values with the original / correct answers.\n",
        "\n",
        "Simple overview of the code is as follows:\n",
        "1. Initialize learning rate and weights\n",
        "2. Neural network is constructed\n",
        "    * 2.1. The nn(x, w) takes the input variable x and multiply it with the weights w. This is a linear function which means the neural network is essentially just performing a linear regression.\n",
        "    * 2.2. Next is defined a loss function, which is the Mean Squared Error (MSE). This is the function that we want to minimize. It takes the predicted output y and the target output t as input.\n",
        "    * 2.3. The optimization approach is the gradient of the loss function with respect to the weight w. This function first calculates the predicted output y, then calculates the gradient as the mean of $2*x*(y-t)$. This is equal to the deriviative of the MSE w.r.t. w -- $\\frac{\\partial MSE}{\\partial w} = \\frac{2}{N} \\sum_{i=1}^{N} x_i(y_i-t_i)$.\n",
        "    * 2.4. Then we compute the updated weights which calculates the change in the weight w, this is dine by multiplying the gradient decent with the learning rate.\n",
        "\n",
        "Following this is simply just a loop during this process multiple times to get the optimal weights. We only print the first 2 beause these are the one we'll be focusing on for the manual approach."
      ],
      "metadata": {
        "id": "FiObobJtlQlP"
      }
    },
    {
      "cell_type": "code",
      "source": [
        "# Initializing Hyperparameters\n",
        "# EPOCHs are left out for convenience\n",
        "learning_rate = 2 # Learning rate for gradient descent - Adjustment rate for weights is another word.\n",
        "\n",
        "# Initializing Parameters\n",
        "w = 10 # Initial weights, could in reality be anything.\n",
        "\n",
        "# 1. Creating a Neural Network\n",
        "########################################################################\n",
        "###### Functions defined are for simplicity and from lectures ##########\n",
        "########################################################################\n",
        "# 1.1 Structure (Architecture) of NN\n",
        "def nn(x, w):\n",
        "    \"\"\"Output function y = x * w\"\"\"\n",
        "    return x * w\n",
        "\n",
        "# 1.2 Loss Function\n",
        "def loss(y, t):\n",
        "    \"\"\"Calculate the Mean Squared Error\"\"\"\n",
        "    return np.mean((t - y)**2)\n",
        "\n",
        "# 1.3 Optmization Approach\n",
        "def gradient(w, x, t):\n",
        "    \"\"\"Compute the gradient.\"\"\"\n",
        "    y = x * w\n",
        "    return np.mean(2 * x * (y - t))\n",
        "\n",
        "def delta_w(w_i, x, t, learning_rate):\n",
        "    \"\"\"Compute the weight update.\"\"\"\n",
        "    return learning_rate * gradient(w_i, x, t)\n",
        "\n",
        "w_his = []\n",
        "w_his.append(w)\n",
        "\n",
        "########################################################################\n",
        "###### Functions defined are for simplicity and from lectures ##########\n",
        "########################################################################\n",
        "\n",
        "for i in range(len(data_s['X'][0:2])): # Changed from original to only show 3 due to space limitations in notebook.\n",
        "    x_i, t_i = data_s['X'][i], data_s['Y'][i]\n",
        "\n",
        "    # 2. Forward Pass\n",
        "    output = nn(x_i, w)\n",
        "\n",
        "    # 3. FeedForward Evaluation\n",
        "    loss_val = loss(output, t_i)\n",
        "\n",
        "    # 4. Backward Pass / Gradient Calculation\n",
        "    grad_value = gradient(w, x_i, t_i)  # Compute gradient\n",
        "    dw = delta_w(w, x_i, t_i, learning_rate)\n",
        "\n",
        "    # 5. Back Propagation / Update Weights\n",
        "    w = w - dw\n",
        "\n",
        "    w_his.append(w)\n",
        "\n",
        "    # Accumulate loss\n",
        "    total_loss += loss_val\n",
        "\n",
        "    # Print gradient, dw, weight, and loss values in a single line\n",
        "    print(f\"Epoch {epoch+1}, Sample {i+1}: Gradient = {grad_value:.4f}, Δw = {dw:.4f}, w: {w:.4f}, loss: {loss_val:.4f}\")"
      ],
      "metadata": {
        "id": "wyg8lKq7lSSU"
      },
      "execution_count": null,
      "outputs": []
    },
    {
      "cell_type": "markdown",
      "source": [
        "## Manual approach to calculating Stochastic Gradient Descent\n",
        "\n",
        "### Sample 1\n",
        "\n",
        "Epoch 1, Sample 1: Gradient = 13.5523, Δw = 27.1046, w: -17.1046, loss: 60.5288"
      ],
      "metadata": {
        "id": "ldTLIu4jlZoQ"
      }
    },
    {
      "cell_type": "code",
      "source": [
        "# Our x value - The input\n",
        "data_s['X'][0]"
      ],
      "metadata": {
        "id": "gV7Rq6OPleJv"
      },
      "execution_count": null,
      "outputs": []
    },
    {
      "cell_type": "code",
      "source": [
        "# Calculating the prediction which is our X multiplied by our weight, in which our weight is initially set to 10.\n",
        "# Prediction y = w * x\n",
        "# Therefore our prediction is:\n",
        "10 * data_s['X'][0]"
      ],
      "metadata": {
        "id": "FM80rEbhle0c"
      },
      "execution_count": null,
      "outputs": []
    },
    {
      "cell_type": "code",
      "source": [
        "# We the check to see what the actual value is, which is our Y value. This shows the 'correct' value.\n",
        "data_s['Y'][0]"
      ],
      "metadata": {
        "id": "tRFxunyolf9O"
      },
      "execution_count": null,
      "outputs": []
    },
    {
      "cell_type": "code",
      "source": [
        "# Following these set of information, we then calculate the gradient of the loss function.\n",
        "# This is done by using the fomula written above.\n",
        "# Gradiant np.mean(2 * x * (y - t))\n",
        "# Therefore our gradient is:\n",
        "np.mean(2 * data_s['X'][0] * ((10 * data_s['X'][0]) - data_s['Y'][0]))\n"
      ],
      "metadata": {
        "id": "N_w0B0j8lhLd"
      },
      "execution_count": null,
      "outputs": []
    },
    {
      "cell_type": "code",
      "source": [
        "# Following our gradient descents, we update the weights by using the formula written above.\n",
        "# Initial weight - lerning rate * gradient = updated weights\n",
        "# Learning rate is initially set to 2 in the automatic calculation above.\n",
        "\n",
        "10 - learning_rate * 13.552298524502001"
      ],
      "metadata": {
        "id": "vycdkMe0licJ"
      },
      "execution_count": null,
      "outputs": []
    },
    {
      "cell_type": "code",
      "source": [
        "#Our change in weights ∆w is therefore equal to:\n",
        "17.104597049004003 + 10"
      ],
      "metadata": {
        "id": "38CL8tsQljZt"
      },
      "execution_count": null,
      "outputs": []
    },
    {
      "cell_type": "code",
      "source": [
        "# For illustrative purposes we show how much our loss MSE was for the first sample.\n",
        "# this is done using the following formula np.mean((t - y * w) * 2)\n",
        "# Essentially this shows our error for the first sample.\n",
        "# Loss function -----> Error\n",
        "np.mean((data_s['Y'][0] - data_s['X'][0] * 10) ** 2)"
      ],
      "metadata": {
        "id": "evm_94gElkp3"
      },
      "execution_count": null,
      "outputs": []
    },
    {
      "cell_type": "markdown",
      "source": [
        "From this we see that we get:\n",
        "\n",
        "Gradient = 13.5523, Δw = 27.1046, w: -17.1046, loss: 60.5288"
      ],
      "metadata": {
        "id": "pMgzhqwqloCT"
      }
    },
    {
      "cell_type": "markdown",
      "source": [
        "### Sample 2\n",
        "\n",
        "Epoch 1, Sample 2: Gradient = -0.8367, Δw = -1.6734, w: -15.4312, loss: 7.4545"
      ],
      "metadata": {
        "id": "ivipQacklqCH"
      }
    },
    {
      "cell_type": "code",
      "source": [
        "# Our x value - The input\n",
        "data_s['X'][1]"
      ],
      "metadata": {
        "id": "-NWd4PWMlmjQ"
      },
      "execution_count": null,
      "outputs": []
    },
    {
      "cell_type": "code",
      "source": [
        "# Calculating the prediction which is our X multiplied by our weight, in which our weight is initially set to 10.\n",
        "# But since this is the second time, and we've already updated the weights, we now use the updated weights.\n",
        "# The updated weight was: -17.104597049004003\n",
        "\n",
        "# Prediction y = w * x\n",
        "# Therefore our prediction is:\n",
        "\n",
        "-17.104597049004003 * data_s['X'][1]"
      ],
      "metadata": {
        "id": "qIe37YBflrd9"
      },
      "execution_count": null,
      "outputs": []
    },
    {
      "cell_type": "code",
      "source": [
        "# We the check to see what the actual value is, which is our Y value. This shows the 'correct' value.\n",
        "data_s['Y'][1]"
      ],
      "metadata": {
        "id": "eyCD8zzQlsV5"
      },
      "execution_count": null,
      "outputs": []
    },
    {
      "cell_type": "code",
      "source": [
        "# Following these set of information, we then calculate the gradient of the loss function.\n",
        "# This is done by using the fomula written above.\n",
        "# Gradiant np.mean(2 * x * (y - t))\n",
        "# Therefore our gradient is:\n",
        "\n",
        "np.mean(2 * data_s['X'][1] * (-2.6208656768635166 - data_s['Y'][1]))"
      ],
      "metadata": {
        "id": "-7Yohls8ltn0"
      },
      "execution_count": null,
      "outputs": []
    },
    {
      "cell_type": "code",
      "source": [
        "# Following our gradient descents, we update the weights by using the formula written above.\n",
        "# Initial weight - lerning rate * gradient = updated weights\n",
        "# Learning rate is initially set to 2 in the automatic calculation above.\n",
        "# The learning rate does not change, therefore it's still = 2.\n",
        "\n",
        "\n",
        "-17.104597049004003 - learning_rate * -0.8367025368906251\n",
        "# -17.10459... is the new weight we calculated in the first part\n",
        "# -0.8367025... is the gradient descent."
      ],
      "metadata": {
        "id": "qx9vEFAqlu4m"
      },
      "execution_count": null,
      "outputs": []
    },
    {
      "cell_type": "code",
      "source": [
        "#Our change in weights ∆w is therefore equal to:\n",
        "15.431191975222752 - 17.104597049004003"
      ],
      "metadata": {
        "id": "fX6mFOQXlwAa"
      },
      "execution_count": null,
      "outputs": []
    },
    {
      "cell_type": "code",
      "source": [
        "# For illustrative purposes we show how much our loss MSE was for the first sample.\n",
        "# this is done using the following formula np.mean((t - y * w) * 2)\n",
        "# Essentially this shows our error for the first sample.\n",
        "# Loss function -----> Error\n",
        "np.mean((data_s['Y'][1] - data_s['X'][1] * -17.104597049004003) ** 2)"
      ],
      "metadata": {
        "id": "1m1QoDATlxYv"
      },
      "execution_count": null,
      "outputs": []
    },
    {
      "cell_type": "markdown",
      "source": [
        "As can be sees we get:\n",
        "\n",
        "Gradient = -0.8367, Δw = -1.6734, w: -15.4312, loss: 7.4545"
      ],
      "metadata": {
        "id": "Lpwzq5Vfl0gt"
      }
    },
    {
      "cell_type": "markdown",
      "source": [
        "# Attention Mechanism"
      ],
      "metadata": {
        "id": "cvWQ-mhnOv8d"
      }
    },
    {
      "cell_type": "markdown",
      "source": [
        "Attention Mechanisms are a fundamental componenet that enable model to focus on specific parts of the input when making predictions or generating output.\n",
        "\n",
        "In traditional neural networks, all parts of the input sequence are typically treated equally, regardless of their relevance to the task at hand. Attention mechanisms, on the other hand, allow the model to assign different weights to different parts of the input, emphasizing the more important elements and de-emphasizing or ignoring less relevant ones.\n",
        "\n",
        "There are different types of attention mechanisms, but the general idea involves computing attention weights for each element in the input sequence. These weights indicate the importance of each element in contributing to the model's output. The attention weights are then used to compute a weighted sum of the input elements, creating a context vector that captures the relevant information."
      ],
      "metadata": {
        "id": "ZNNbxQ46i62j"
      }
    },
    {
      "cell_type": "markdown",
      "source": [
        "We first install our necessary package and import the necessary libraries that we will be using"
      ],
      "metadata": {
        "id": "ScSbsxpHe_71"
      }
    },
    {
      "cell_type": "code",
      "source": [
        "%%capture\n",
        "!pip install transformers -q"
      ],
      "metadata": {
        "id": "XRQ3IsmPT2wH"
      },
      "execution_count": null,
      "outputs": []
    },
    {
      "cell_type": "code",
      "source": [
        "from transformers import BertTokenizer, BertModel\n",
        "from sklearn.decomposition import PCA\n",
        "\n",
        "# Initialize the tokenizer and model\n",
        "tokenizer = BertTokenizer.from_pretrained('bert-base-uncased')\n",
        "model = BertModel.from_pretrained('bert-base-uncased')"
      ],
      "metadata": {
        "id": "kL-EQVtbUQE8"
      },
      "execution_count": null,
      "outputs": []
    },
    {
      "cell_type": "markdown",
      "source": [
        "We set up the tokenizing of the words in the first sentence.\n",
        "\n",
        "This will give us the vector positions of each of the words to use for later."
      ],
      "metadata": {
        "id": "rgWhiLmBcBVE"
      }
    },
    {
      "cell_type": "code",
      "source": [
        "# Tokenize the sentence\n",
        "sentence = \"i have a baseball bat\"\n",
        "inputs = tokenizer(sentence, return_tensors=\"pt\", add_special_tokens=True)\n",
        "\n",
        "# Get the token IDs (input to the model)\n",
        "input_ids = inputs['input_ids']\n",
        "\n",
        "# Forward pass through BERT to get the embeddings\n",
        "with torch.no_grad():\n",
        "    outputs = model(input_ids)\n",
        "\n",
        "# The last_hidden_state is the embeddings for the last layer\n",
        "# It has shape [batch_size, sequence_length, hidden_size], where hidden_size is 768 for BERT base\n",
        "embeddings1 = outputs.last_hidden_state.squeeze(0)  # Remove the batch dimension\n",
        "\n",
        "# Now, `embeddings` contains the embeddings for each token in the sentence\n"
      ],
      "metadata": {
        "id": "gCXp8zq5TqZm"
      },
      "execution_count": null,
      "outputs": []
    },
    {
      "cell_type": "markdown",
      "source": [
        "Using PCA we are now able to plot the positions in two dimensions to get a visual idea of how the words are positioned compared to each other"
      ],
      "metadata": {
        "id": "03ikqrmccdSA"
      }
    },
    {
      "cell_type": "code",
      "source": [
        "# Create a PCA object to reduce to 2 dimensions\n",
        "pca = PCA(n_components=2)\n",
        "\n",
        "# Fit and transform the embeddings using PCA\n",
        "reduced_embeddings = pca.fit_transform(embeddings1[2:7])\n",
        "\n",
        "# Plot the reduced embeddings\n",
        "plt.figure(figsize=(10, 8))\n",
        "plt.scatter(reduced_embeddings[:, 0], reduced_embeddings[:, 1])\n",
        "\n",
        "# Annotate the points with the words\n",
        "words = [\"i\", \"have\", \"a\", \"baseball\", \"bat\"]\n",
        "\n",
        "for i, word in enumerate(words):\n",
        "    plt.annotate(word, (reduced_embeddings[i, 0], reduced_embeddings[i, 1]))\n",
        "\n",
        "plt.title('Word Embeddings reduced to 2D space')\n",
        "plt.xlabel('Component 1')\n",
        "plt.ylabel('Component 2')\n",
        "plt.grid(True)\n",
        "plt.show()\n"
      ],
      "metadata": {
        "colab": {
          "base_uri": "https://localhost:8080/",
          "height": 718
        },
        "id": "V8AwLzzLUVQx",
        "outputId": "0b1951e8-a0b6-4b09-e489-cb76e3bee5f1"
      },
      "execution_count": null,
      "outputs": [
        {
          "output_type": "display_data",
          "data": {
            "text/plain": [
              "<Figure size 1000x800 with 1 Axes>"
            ],
            "image/png": "[encoded data removed]"
          },
          "metadata": {}
        }
      ]
    },
    {
      "cell_type": "markdown",
      "source": [
        "We now tokenize the second set of words such that we are also able to get their positions"
      ],
      "metadata": {
        "id": "GPUjNxr2cooH"
      }
    },
    {
      "cell_type": "code",
      "source": [
        "# Tokenize the sentence\n",
        "sentence = \"the bat flew by\"\n",
        "inputs = tokenizer(sentence, return_tensors=\"pt\", add_special_tokens=True)\n",
        "\n",
        "# Get the token IDs (input to the model)\n",
        "input_ids = inputs['input_ids']\n",
        "\n",
        "# Forward pass through BERT to get the embeddings\n",
        "with torch.no_grad():\n",
        "    outputs = model(input_ids)\n",
        "\n",
        "# The last_hidden_state is the embeddings for the last layer\n",
        "# It has shape [batch_size, sequence_length, hidden_size], where hidden_size is 768 for BERT base\n",
        "embeddings2 = outputs.last_hidden_state.squeeze(0)  # Remove the batch dimension\n",
        "\n",
        "# Now, `embeddings` contains the embeddings for each token in the sentence\n"
      ],
      "metadata": {
        "id": "IFwWizXCYNm_"
      },
      "execution_count": null,
      "outputs": []
    },
    {
      "cell_type": "markdown",
      "source": [
        "Using PCA we are now able to plot the positions in two dimensions to get a visual idea of how the words are positioned compared to each other"
      ],
      "metadata": {
        "id": "HbKk-o0ac0Dj"
      }
    },
    {
      "cell_type": "code",
      "source": [
        "# Create a PCA object to reduce to 2 dimensions\n",
        "pca = PCA(n_components=2)\n",
        "\n",
        "# Fit and transform the embeddings using PCA\n",
        "reduced_embeddings = pca.fit_transform(embeddings2[2:6])\n",
        "\n",
        "# Plot the reduced embeddings\n",
        "plt.figure(figsize=(10, 8))\n",
        "plt.scatter(reduced_embeddings[:, 0], reduced_embeddings[:, 1])\n",
        "\n",
        "# Annotate the points with the words\n",
        "words = [\"the\", \"bat\", \"flew\", \"by\"]\n",
        "\n",
        "for i, word in enumerate(words):\n",
        "    plt.annotate(word, (reduced_embeddings[i, 0], reduced_embeddings[i, 1]))\n",
        "\n",
        "plt.title('Word Embeddings reduced to 2D space')\n",
        "plt.xlabel('Component 1')\n",
        "plt.ylabel('Component 2')\n",
        "plt.grid(True)\n",
        "plt.show()"
      ],
      "metadata": {
        "colab": {
          "base_uri": "https://localhost:8080/",
          "height": 718
        },
        "id": "_LJxmYgaYRvL",
        "outputId": "9700e1a7-c0df-4924-bf8f-e61027d4efe3"
      },
      "execution_count": null,
      "outputs": [
        {
          "output_type": "display_data",
          "data": {
            "text/plain": [
              "<Figure size 1000x800 with 1 Axes>"
            ],
            "image/png": "[encoded data removed]"
          },
          "metadata": {}
        }
      ]
    },
    {
      "cell_type": "markdown",
      "source": [
        "After having gotten the embedding positions of all of the words, we are now able to put all of the positions into a single dictionary.\n",
        "\n",
        "We do this such that we are able to perform the necessary calculations later on."
      ],
      "metadata": {
        "id": "JdniF-ooc1dm"
      }
    },
    {
      "cell_type": "code",
      "source": [
        "embeddings3 = {\n",
        "    \"i\": embeddings1[2].numpy(),\n",
        "    \"have\": embeddings1[3].numpy(),\n",
        "    \"a\": embeddings1[4].numpy(),\n",
        "    \"baseball\": embeddings1[5].numpy(),\n",
        "    \"bat\": embeddings1[6].numpy(),\n",
        "    \"the\": embeddings2[2].numpy(),\n",
        "    \"flew\": embeddings2[4].numpy(),\n",
        "    \"by\": embeddings2[5].numpy()\n",
        "}\n",
        "\n",
        "#We have picked the embedding for bat from the first sentence, due to not being able to make an average of the positions from both sentences\n",
        "# We are aware that this is not fully correct, though we proceed knowing this."
      ],
      "metadata": {
        "id": "nLuKtezbXRq7"
      },
      "execution_count": null,
      "outputs": []
    },
    {
      "cell_type": "markdown",
      "source": [
        "After having placed the individual positions into a dictionary, we can now plot all of the individual words together in a single 2D plot."
      ],
      "metadata": {
        "id": "FVr10NYIdI2L"
      }
    },
    {
      "cell_type": "code",
      "source": [
        "# Extract the coordinates for 2D plotting\n",
        "x_2d_adj = [embeddings3[word][0] for word in embeddings3]\n",
        "y_2d_adj = [embeddings3[word][1] for word in embeddings3]\n",
        "words_2d_adj = list(embeddings3.keys())\n",
        "\n",
        "# Create a 2D plot\n",
        "fig, ax = plt.subplots(figsize=(8, 6))\n",
        "\n",
        "# Scatter the points\n",
        "ax.scatter(x_2d_adj, y_2d_adj)\n",
        "\n",
        "# Annotate the points with words\n",
        "for i, word in enumerate(words_2d_adj):\n",
        "    ax.text(x_2d_adj[i], y_2d_adj[i] + 0.01, word)  # Adjust text position for clarity\n",
        "\n",
        "# Set labels\n",
        "ax.set_xlabel('Dimension 1')\n",
        "ax.set_ylabel('Dimension 2')\n",
        "ax.set_title('2D plot of word embeddings')\n",
        "\n",
        "# Set equal scaling\n",
        "ax.axis('equal')\n",
        "\n",
        "# Show the plot\n",
        "plt.show()\n"
      ],
      "metadata": {
        "colab": {
          "base_uri": "https://localhost:8080/",
          "height": 564
        },
        "id": "e5JNHuSLMrqz",
        "outputId": "c2f1c42e-f565-4795-a12e-b00fc965fa5b"
      },
      "execution_count": null,
      "outputs": [
        {
          "output_type": "display_data",
          "data": {
            "text/plain": [
              "<Figure size 800x600 with 1 Axes>"
            ],
            "image/png": "[encoded data removed]"
          },
          "metadata": {}
        }
      ]
    },
    {
      "cell_type": "markdown",
      "source": [
        "We can see that \"baseball\" is positioned closer to bat than \"flew\" is in this case."
      ],
      "metadata": {
        "id": "MFRwatI9d010"
      }
    },
    {
      "cell_type": "markdown",
      "source": [
        "After having taken a look at the positions of the words, we can now calculate our attention output"
      ],
      "metadata": {
        "id": "PUc4Uf1Pd0wl"
      }
    },
    {
      "cell_type": "code",
      "source": [
        "# Sentence 1\n",
        "sentence_1 = [\"i\", \"have\", \"a\", \"baseball\", \"bat\"]\n",
        "\n",
        "# Initialize matrices for Q, K, V\n",
        "Q_1 = np.array([embeddings3[word] for word in sentence_1])\n",
        "K_1 = np.array([embeddings3[word] for word in sentence_1])\n",
        "V_1 = np.array([embeddings3[word] for word in sentence_1])\n",
        "\n",
        "# Step 1: Similarity - Calculate dot products for Q and K (attention scores)\n",
        "attention_scores_1 = Q_1.dot(K_1.T)\n",
        "\n",
        "# Step 2: Weights - Apply softmax to attention scores\n",
        "def softmax(x):\n",
        "    e_x = np.exp(x - np.max(x))\n",
        "    return e_x / e_x.sum(axis=0)\n",
        "\n",
        "attention_weights_1 = np.apply_along_axis(softmax, 1, attention_scores_1)\n",
        "\n",
        "# Step 3: Contextualized vector - Multiply attention weights by V and sum to get output vectors\n",
        "attention_output_1 = attention_weights_1.dot(V_1)"
      ],
      "metadata": {
        "id": "JjSa-Kh6NrDz"
      },
      "execution_count": null,
      "outputs": []
    },
    {
      "cell_type": "code",
      "source": [
        "attention_output_1"
      ],
      "metadata": {
        "colab": {
          "base_uri": "https://localhost:8080/"
        },
        "id": "nBmGV342N9Lg",
        "outputId": "5df4018c-6b4f-4655-84b1-abedb964d11b"
      },
      "execution_count": null,
      "outputs": [
        {
          "output_type": "execute_result",
          "data": {
            "text/plain": [
              "array([[ 0.32324398,  0.84930605,  0.03585996, ..., -0.2362689 ,\n",
              "         0.20298937,  0.12330541],\n",
              "       [-0.26814216,  0.5969628 ,  0.03591495, ..., -0.41512454,\n",
              "        -0.17542687,  0.3565664 ],\n",
              "       [ 0.33890572,  1.1239358 , -0.6009588 , ..., -0.39115927,\n",
              "         0.0121437 , -0.34908897],\n",
              "       [ 0.41243416,  0.45540193, -0.45732698, ...,  0.40431407,\n",
              "         0.20579253, -0.37224326],\n",
              "       [ 0.7054035 ,  0.21011114, -0.30957484, ...,  0.2409946 ,\n",
              "        -0.4986839 , -0.31831604]], dtype=float32)"
            ]
          },
          "metadata": {},
          "execution_count": 105
        }
      ]
    },
    {
      "cell_type": "markdown",
      "source": [
        "The results does not tell us much about the actual output, therefore we need to plot it for a better idea of what this all means"
      ],
      "metadata": {
        "id": "lQKlyslceNv1"
      }
    },
    {
      "cell_type": "code",
      "source": [
        "# Plotting the original embeddings and the attention output for the first sentence \"i have a baseball bat\"\n",
        "\n",
        "# Extract the relevant embeddings for the first sentence\n",
        "sentence_embeddings_1 = np.array([embeddings3[word] for word in sentence_1])\n",
        "\n",
        "# Convert the attention output for the first sentence to a numpy array for ease of use\n",
        "attention_output_array_1 = np.array(attention_output_1)\n",
        "\n",
        "# Set up the plot\n",
        "fig, axes = plt.subplots(1, 2, figsize=(15, 5))\n",
        "\n",
        "# Plot original embeddings\n",
        "for i, word in enumerate(sentence_1):\n",
        "    axes[0].scatter(sentence_embeddings_1[i, 0], sentence_embeddings_1[i, 1], label=f\"{word}\")\n",
        "\n",
        "axes[0].set_title('Original Word Embeddings for \"the bank of the river\"')\n",
        "axes[0].set_xlabel('Dimension 1')\n",
        "axes[0].set_ylabel('Dimension 2')\n",
        "axes[0].grid(True)\n",
        "axes[0].legend()\n",
        "\n",
        "# Plot output vectors\n",
        "for i, word in enumerate(sentence_1):\n",
        "    axes[1].scatter(attention_output_array_1[i, 0], attention_output_array_1[i, 1], label=f\"{word}\")\n",
        "\n",
        "axes[1].set_title('Self-Attention Output Vectors for \"the bank of the river\"')\n",
        "axes[1].set_xlabel('Dimension 1')\n",
        "axes[1].set_ylabel('Dimension 2')\n",
        "axes[1].grid(True)\n",
        "axes[1].legend()\n",
        "\n",
        "plt.show()\n"
      ],
      "metadata": {
        "colab": {
          "base_uri": "https://localhost:8080/",
          "height": 487
        },
        "id": "mnBIApqHOCa3",
        "outputId": "6bfb0635-618a-4486-b90d-3f8dc8e7623e"
      },
      "execution_count": null,
      "outputs": [
        {
          "output_type": "display_data",
          "data": {
            "text/plain": [
              "<Figure size 1500x500 with 2 Axes>"
            ],
            "image/png": "[encoded data removed]"
          },
          "metadata": {}
        }
      ]
    },
    {
      "cell_type": "markdown",
      "source": [
        "After having plotted the original word embedding up against the Self-Attention output vector, we can see that the position of all of the words are the same.\n",
        "\n",
        "We assume this happens due to having use Bert for word embedding. Were we to use a manual approach to embedding the individual words, we would see that the positions in the Self-Attention Output Vector would change and be more alligned with the way Bert is embedding words."
      ],
      "metadata": {
        "id": "Fd2jLvDMeYWs"
      }
    }
  ]
}